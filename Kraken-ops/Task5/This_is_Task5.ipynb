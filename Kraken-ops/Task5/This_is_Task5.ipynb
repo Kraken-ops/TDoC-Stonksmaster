{
  "nbformat": 4,
  "nbformat_minor": 0,
  "metadata": {
    "colab": {
      "name": "This_is_Task5.ipynb",
      "provenance": []
    },
    "kernelspec": {
      "name": "python3",
      "display_name": "Python 3"
    }
  },
  "cells": [
    {
      "cell_type": "code",
      "metadata": {
        "id": "CrRTvHV5KI4r",
        "outputId": "a0e1ea6d-ce1c-46e4-f64e-0d5f985fc6e0",
        "colab": {
          "base_uri": "https://localhost:8080/",
          "height": 574
        }
      },
      "source": [
        "pip install alpha_vantage"
      ],
      "execution_count": 1,
      "outputs": [
        {
          "output_type": "stream",
          "text": [
            "Collecting alpha_vantage\n",
            "  Downloading https://files.pythonhosted.org/packages/12/e3/72ec32d859a363c2eebaa42e0d4abb5ac7172a7a77a2307576ceb5fc1b42/alpha_vantage-2.2.0.tar.gz\n",
            "Collecting aiohttp\n",
            "\u001b[?25l  Downloading https://files.pythonhosted.org/packages/7c/39/7eb5f98d24904e0f6d3edb505d4aa60e3ef83c0a58d6fe18244a51757247/aiohttp-3.6.2-cp36-cp36m-manylinux1_x86_64.whl (1.2MB)\n",
            "\u001b[K     |████████████████████████████████| 1.2MB 3.9MB/s \n",
            "\u001b[?25hRequirement already satisfied: requests in /usr/local/lib/python3.6/dist-packages (from alpha_vantage) (2.23.0)\n",
            "Requirement already satisfied: attrs>=17.3.0 in /usr/local/lib/python3.6/dist-packages (from aiohttp->alpha_vantage) (20.2.0)\n",
            "Collecting multidict<5.0,>=4.5\n",
            "\u001b[?25l  Downloading https://files.pythonhosted.org/packages/1a/95/f50352b5366e7d579e8b99631680a9e32e1b22adfa1629a8f23b1d22d5e2/multidict-4.7.6-cp36-cp36m-manylinux1_x86_64.whl (148kB)\n",
            "\u001b[K     |████████████████████████████████| 153kB 17.7MB/s \n",
            "\u001b[?25hCollecting async-timeout<4.0,>=3.0\n",
            "  Downloading https://files.pythonhosted.org/packages/e1/1e/5a4441be21b0726c4464f3f23c8b19628372f606755a9d2e46c187e65ec4/async_timeout-3.0.1-py3-none-any.whl\n",
            "Requirement already satisfied: typing-extensions>=3.6.5; python_version < \"3.7\" in /usr/local/lib/python3.6/dist-packages (from aiohttp->alpha_vantage) (3.7.4.3)\n",
            "Collecting idna-ssl>=1.0; python_version < \"3.7\"\n",
            "  Downloading https://files.pythonhosted.org/packages/46/03/07c4894aae38b0de52b52586b24bf189bb83e4ddabfe2e2c8f2419eec6f4/idna-ssl-1.1.0.tar.gz\n",
            "Requirement already satisfied: chardet<4.0,>=2.0 in /usr/local/lib/python3.6/dist-packages (from aiohttp->alpha_vantage) (3.0.4)\n",
            "Collecting yarl<2.0,>=1.0\n",
            "\u001b[?25l  Downloading https://files.pythonhosted.org/packages/01/c9/379b807a9c298b9694d0af8ee4260be7d40ab1a11fb9d4ae9e70b1e69d96/yarl-1.6.0-cp36-cp36m-manylinux1_x86_64.whl (257kB)\n",
            "\u001b[K     |████████████████████████████████| 266kB 18.7MB/s \n",
            "\u001b[?25hRequirement already satisfied: idna<3,>=2.5 in /usr/local/lib/python3.6/dist-packages (from requests->alpha_vantage) (2.10)\n",
            "Requirement already satisfied: certifi>=2017.4.17 in /usr/local/lib/python3.6/dist-packages (from requests->alpha_vantage) (2020.6.20)\n",
            "Requirement already satisfied: urllib3!=1.25.0,!=1.25.1,<1.26,>=1.21.1 in /usr/local/lib/python3.6/dist-packages (from requests->alpha_vantage) (1.24.3)\n",
            "Building wheels for collected packages: alpha-vantage, idna-ssl\n",
            "  Building wheel for alpha-vantage (setup.py) ... \u001b[?25l\u001b[?25hdone\n",
            "  Created wheel for alpha-vantage: filename=alpha_vantage-2.2.0-cp36-none-any.whl size=25706 sha256=f08e6a6521903cfa963e47bcbd382cdb8f424c88776ec3b4c2e3380d364fae8f\n",
            "  Stored in directory: /root/.cache/pip/wheels/3a/fa/05/80b0afcbd2a4de8bd2a0c5cd77084e3d3a9cc12c48be9b7f84\n",
            "  Building wheel for idna-ssl (setup.py) ... \u001b[?25l\u001b[?25hdone\n",
            "  Created wheel for idna-ssl: filename=idna_ssl-1.1.0-cp36-none-any.whl size=3161 sha256=8f1fcbc0f5296db4265b18f959d096933927c2d43385340c5c80bc2a583c8b09\n",
            "  Stored in directory: /root/.cache/pip/wheels/d3/00/b3/32d613e19e08a739751dd6bf998cfed277728f8b2127ad4eb7\n",
            "Successfully built alpha-vantage idna-ssl\n",
            "Installing collected packages: multidict, async-timeout, idna-ssl, yarl, aiohttp, alpha-vantage\n",
            "Successfully installed aiohttp-3.6.2 alpha-vantage-2.2.0 async-timeout-3.0.1 idna-ssl-1.1.0 multidict-4.7.6 yarl-1.6.0\n"
          ],
          "name": "stdout"
        }
      ]
    },
    {
      "cell_type": "markdown",
      "metadata": {
        "id": "mQVQ6ytjrSJ0"
      },
      "source": [
        "Intraday Database"
      ]
    },
    {
      "cell_type": "code",
      "metadata": {
        "id": "m9OTBXmefqfo",
        "outputId": "ef50ea96-444a-4148-a6ee-d193b0c6a046",
        "colab": {
          "base_uri": "https://localhost:8080/",
          "height": 447
        }
      },
      "source": [
        "import pandas as pd\n",
        "from alpha_vantage.timeseries import TimeSeries\n",
        "import time\n",
        "\n",
        "api_key = 'WJQSCAV3QLCFLV9I'\n",
        "\n",
        "ts = TimeSeries(key=api_key, output_format='pandas')\n",
        "data, meta_data = ts.get_intraday(symbol='MSFT', interval = '1min', outputsize = 'full')\n",
        "print(data)\n",
        "i=1\n",
        "while i==1:\n",
        "  data, meta_data = ts.get_intraday(symbol='MSFT', interval = '1min', outputsize = 'full')\n",
        "  data.to_csv(\"database-intraday.csv\")\n",
        "  time.sleep(60)\n"
      ],
      "execution_count": 12,
      "outputs": [
        {
          "output_type": "stream",
          "text": [
            "                      1. open  2. high    3. low  4. close  5. volume\n",
            "date                                                                 \n",
            "2020-10-07 20:00:00  209.8000   209.80  209.8000    209.80     2416.0\n",
            "2020-10-07 19:59:00  209.6201   209.80  209.6201    209.80     4641.0\n",
            "2020-10-07 19:58:00  209.6500   209.65  209.6500    209.65      292.0\n",
            "2020-10-07 19:56:00  209.8000   209.80  209.8000    209.80      400.0\n",
            "2020-10-07 19:52:00  209.8000   209.80  209.8000    209.80      389.0\n",
            "...                       ...      ...       ...       ...        ...\n",
            "2020-09-24 04:20:00  199.8800   199.88  199.8800    199.88      500.0\n",
            "2020-09-24 04:13:00  199.9500   199.95  199.9500    199.95      328.0\n",
            "2020-09-24 04:08:00  200.0200   200.02  200.0200    200.02      260.0\n",
            "2020-09-24 04:05:00  200.0000   200.00  200.0000    200.00      566.0\n",
            "2020-09-24 04:01:00  200.5100   200.51  199.9300    199.93     4555.0\n",
            "\n",
            "[6456 rows x 5 columns]\n"
          ],
          "name": "stdout"
        },
        {
          "output_type": "error",
          "ename": "KeyboardInterrupt",
          "evalue": "ignored",
          "traceback": [
            "\u001b[0;31m---------------------------------------------------------------------------\u001b[0m",
            "\u001b[0;31mKeyboardInterrupt\u001b[0m                         Traceback (most recent call last)",
            "\u001b[0;32m<ipython-input-12-914f4027e333>\u001b[0m in \u001b[0;36m<module>\u001b[0;34m()\u001b[0m\n\u001b[1;32m     13\u001b[0m   \u001b[0mdata\u001b[0m\u001b[0;34m,\u001b[0m \u001b[0mmeta_data\u001b[0m \u001b[0;34m=\u001b[0m \u001b[0mts\u001b[0m\u001b[0;34m.\u001b[0m\u001b[0mget_intraday\u001b[0m\u001b[0;34m(\u001b[0m\u001b[0msymbol\u001b[0m\u001b[0;34m=\u001b[0m\u001b[0;34m'MSFT'\u001b[0m\u001b[0;34m,\u001b[0m \u001b[0minterval\u001b[0m \u001b[0;34m=\u001b[0m \u001b[0;34m'1min'\u001b[0m\u001b[0;34m,\u001b[0m \u001b[0moutputsize\u001b[0m \u001b[0;34m=\u001b[0m \u001b[0;34m'full'\u001b[0m\u001b[0;34m)\u001b[0m\u001b[0;34m\u001b[0m\u001b[0;34m\u001b[0m\u001b[0m\n\u001b[1;32m     14\u001b[0m   \u001b[0mdata\u001b[0m\u001b[0;34m.\u001b[0m\u001b[0mto_csv\u001b[0m\u001b[0;34m(\u001b[0m\u001b[0;34m\"database-intraday.csv\"\u001b[0m\u001b[0;34m)\u001b[0m\u001b[0;34m\u001b[0m\u001b[0;34m\u001b[0m\u001b[0m\n\u001b[0;32m---> 15\u001b[0;31m   \u001b[0mtime\u001b[0m\u001b[0;34m.\u001b[0m\u001b[0msleep\u001b[0m\u001b[0;34m(\u001b[0m\u001b[0;36m60\u001b[0m\u001b[0;34m)\u001b[0m\u001b[0;34m\u001b[0m\u001b[0;34m\u001b[0m\u001b[0m\n\u001b[0m",
            "\u001b[0;31mKeyboardInterrupt\u001b[0m: "
          ]
        }
      ]
    },
    {
      "cell_type": "markdown",
      "metadata": {
        "id": "TaOsxPVSrF2u"
      },
      "source": [
        "Daily Database"
      ]
    },
    {
      "cell_type": "code",
      "metadata": {
        "id": "2SZJj6fzK75W",
        "outputId": "af735b89-69db-406f-c877-36e4b478b109",
        "colab": {
          "base_uri": "https://localhost:8080/",
          "height": 447
        }
      },
      "source": [
        "import pandas as pd\n",
        "from alpha_vantage.timeseries import TimeSeries\n",
        "import time\n",
        "\n",
        "api_key = 'WJQSCAV3QLCFLV9I'\n",
        "\n",
        "ts = TimeSeries(key=api_key, output_format='pandas')\n",
        "data, meta_data = ts.get_daily(symbol='MSFT', outputsize = 'full')\n",
        "print(data)\n",
        "i=1\n",
        "while i==1:\n",
        "  data, meta_data = ts.get_daily(symbol='MSFT', outputsize = 'full')\n",
        "  data.to_csv(\"database-daily.csv\")\n",
        "  time.sleep(60)"
      ],
      "execution_count": 10,
      "outputs": [
        {
          "output_type": "stream",
          "text": [
            "            1. open  2. high  3. low  4. close   5. volume\n",
            "date                                                      \n",
            "2020-10-07   207.06   210.11  206.72    209.83  25681054.0\n",
            "2020-10-06   208.82   210.18  204.82    205.91  28554261.0\n",
            "2020-10-05   207.22   210.41  206.98    210.38  21331561.0\n",
            "2020-10-02   208.00   210.99  205.54    206.19  33154781.0\n",
            "2020-10-01   213.49   213.99  211.32    212.46  27158418.0\n",
            "...             ...      ...     ...       ...         ...\n",
            "1999-11-05    91.81    92.87   90.50     91.56  35083700.0\n",
            "1999-11-04    92.31    92.75   90.31     91.75  27119700.0\n",
            "1999-11-03    92.94    93.50   91.50     92.00  22258500.0\n",
            "1999-11-02    92.75    94.50   91.94     92.56  23174500.0\n",
            "1999-11-01    93.25    94.19   92.12     92.37  26630600.0\n",
            "\n",
            "[5268 rows x 5 columns]\n"
          ],
          "name": "stdout"
        },
        {
          "output_type": "error",
          "ename": "KeyboardInterrupt",
          "evalue": "ignored",
          "traceback": [
            "\u001b[0;31m---------------------------------------------------------------------------\u001b[0m",
            "\u001b[0;31mKeyboardInterrupt\u001b[0m                         Traceback (most recent call last)",
            "\u001b[0;32m<ipython-input-10-664f5d9b0103>\u001b[0m in \u001b[0;36m<module>\u001b[0;34m()\u001b[0m\n\u001b[1;32m     13\u001b[0m   \u001b[0mdata\u001b[0m\u001b[0;34m,\u001b[0m \u001b[0mmeta_data\u001b[0m \u001b[0;34m=\u001b[0m \u001b[0mts\u001b[0m\u001b[0;34m.\u001b[0m\u001b[0mget_daily\u001b[0m\u001b[0;34m(\u001b[0m\u001b[0msymbol\u001b[0m\u001b[0;34m=\u001b[0m\u001b[0;34m'MSFT'\u001b[0m\u001b[0;34m,\u001b[0m \u001b[0moutputsize\u001b[0m \u001b[0;34m=\u001b[0m \u001b[0;34m'full'\u001b[0m\u001b[0;34m)\u001b[0m\u001b[0;34m\u001b[0m\u001b[0;34m\u001b[0m\u001b[0m\n\u001b[1;32m     14\u001b[0m   \u001b[0mdata\u001b[0m\u001b[0;34m.\u001b[0m\u001b[0mto_csv\u001b[0m\u001b[0;34m(\u001b[0m\u001b[0;34m\"database-daily.csv\"\u001b[0m\u001b[0;34m)\u001b[0m\u001b[0;34m\u001b[0m\u001b[0;34m\u001b[0m\u001b[0m\n\u001b[0;32m---> 15\u001b[0;31m   \u001b[0mtime\u001b[0m\u001b[0;34m.\u001b[0m\u001b[0msleep\u001b[0m\u001b[0;34m(\u001b[0m\u001b[0;36m60\u001b[0m\u001b[0;34m)\u001b[0m\u001b[0;34m\u001b[0m\u001b[0;34m\u001b[0m\u001b[0m\n\u001b[0m",
            "\u001b[0;31mKeyboardInterrupt\u001b[0m: "
          ]
        }
      ]
    }
  ]
}